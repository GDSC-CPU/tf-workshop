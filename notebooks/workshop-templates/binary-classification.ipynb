{
 "cells": [
  {
   "cell_type": "markdown",
   "metadata": {},
   "source": [
    "[![Open in Colab](https://colab.research.google.com/assets/colab-badge.svg)][1]\n",
    "\n",
    "[1]: https://colab.research.google.com/github/psse-cpu/ml-workshop/blob/main/notebooks/workshop-templates/binary-classification.ipynb"
   ]
  },
  {
   "cell_type": "code",
   "execution_count": 25,
   "metadata": {},
   "outputs": [],
   "source": [
    "import numpy as np\n",
    "import tensorflow as tf\n",
    "import matplotlib.pyplot as plt\n",
    "import pandas as pd\n",
    "\n",
    "from sklearn.preprocessing import MinMaxScaler"
   ]
  },
  {
   "cell_type": "markdown",
   "metadata": {},
   "source": [
    "We are going to load a CSV file using [pandas](https://pandas.pydata.org/).  The CSV file contains\n",
    "two examination scores, with 100 training samples in all.  Each is labelled as:\n",
    "- $1$ for **ADMITTED**\n",
    "- $0$ for **NOT ADMITTED**\n",
    "\n",
    "If you want to open the CSV file in your favorite spreadsheet, the link is [here](https://raw.githubusercontent.com/psse-cpu/ml-workshop/main/notebooks/playgrounds/admission-results.csv)."
   ]
  },
  {
   "cell_type": "code",
   "execution_count": 26,
   "metadata": {},
   "outputs": [
    {
     "data": {
      "text/html": [
       "<div>\n",
       "<style scoped>\n",
       "    .dataframe tbody tr th:only-of-type {\n",
       "        vertical-align: middle;\n",
       "    }\n",
       "\n",
       "    .dataframe tbody tr th {\n",
       "        vertical-align: top;\n",
       "    }\n",
       "\n",
       "    .dataframe thead th {\n",
       "        text-align: right;\n",
       "    }\n",
       "</style>\n",
       "<table border=\"1\" class=\"dataframe\">\n",
       "  <thead>\n",
       "    <tr style=\"text-align: right;\">\n",
       "      <th></th>\n",
       "      <th>Exam 1</th>\n",
       "      <th>Exam 2</th>\n",
       "      <th>Admitted</th>\n",
       "    </tr>\n",
       "  </thead>\n",
       "  <tbody>\n",
       "    <tr>\n",
       "      <th>0</th>\n",
       "      <td>34.623660</td>\n",
       "      <td>78.024693</td>\n",
       "      <td>0</td>\n",
       "    </tr>\n",
       "    <tr>\n",
       "      <th>1</th>\n",
       "      <td>30.286711</td>\n",
       "      <td>43.894998</td>\n",
       "      <td>0</td>\n",
       "    </tr>\n",
       "    <tr>\n",
       "      <th>2</th>\n",
       "      <td>35.847409</td>\n",
       "      <td>72.902198</td>\n",
       "      <td>0</td>\n",
       "    </tr>\n",
       "    <tr>\n",
       "      <th>3</th>\n",
       "      <td>60.182599</td>\n",
       "      <td>86.308552</td>\n",
       "      <td>1</td>\n",
       "    </tr>\n",
       "    <tr>\n",
       "      <th>4</th>\n",
       "      <td>79.032736</td>\n",
       "      <td>75.344376</td>\n",
       "      <td>1</td>\n",
       "    </tr>\n",
       "    <tr>\n",
       "      <th>...</th>\n",
       "      <td>...</td>\n",
       "      <td>...</td>\n",
       "      <td>...</td>\n",
       "    </tr>\n",
       "    <tr>\n",
       "      <th>95</th>\n",
       "      <td>83.489163</td>\n",
       "      <td>48.380286</td>\n",
       "      <td>1</td>\n",
       "    </tr>\n",
       "    <tr>\n",
       "      <th>96</th>\n",
       "      <td>42.261701</td>\n",
       "      <td>87.103851</td>\n",
       "      <td>1</td>\n",
       "    </tr>\n",
       "    <tr>\n",
       "      <th>97</th>\n",
       "      <td>99.315009</td>\n",
       "      <td>68.775409</td>\n",
       "      <td>1</td>\n",
       "    </tr>\n",
       "    <tr>\n",
       "      <th>98</th>\n",
       "      <td>55.340018</td>\n",
       "      <td>64.931938</td>\n",
       "      <td>1</td>\n",
       "    </tr>\n",
       "    <tr>\n",
       "      <th>99</th>\n",
       "      <td>74.775893</td>\n",
       "      <td>89.529813</td>\n",
       "      <td>1</td>\n",
       "    </tr>\n",
       "  </tbody>\n",
       "</table>\n",
       "<p>100 rows × 3 columns</p>\n",
       "</div>"
      ],
      "text/plain": [
       "       Exam 1     Exam 2  Admitted\n",
       "0   34.623660  78.024693         0\n",
       "1   30.286711  43.894998         0\n",
       "2   35.847409  72.902198         0\n",
       "3   60.182599  86.308552         1\n",
       "4   79.032736  75.344376         1\n",
       "..        ...        ...       ...\n",
       "95  83.489163  48.380286         1\n",
       "96  42.261701  87.103851         1\n",
       "97  99.315009  68.775409         1\n",
       "98  55.340018  64.931938         1\n",
       "99  74.775893  89.529813         1\n",
       "\n",
       "[100 rows x 3 columns]"
      ]
     },
     "execution_count": 26,
     "metadata": {},
     "output_type": "execute_result"
    }
   ],
   "source": [
    "df = pd.read_csv('https://raw.githubusercontent.com/psse-cpu/ml-workshop/main/notebooks/playgrounds/admission-results.csv')\n",
    "df"
   ]
  },
  {
   "cell_type": "markdown",
   "metadata": {},
   "source": [
    "Let's see the first 10 of those who are admitted, and convert to NumPy ASAP.  Let's not be\n",
    "overly friendly with this stranger library `pandas` for now 🐼."
   ]
  },
  {
   "cell_type": "code",
   "execution_count": 27,
   "metadata": {},
   "outputs": [
    {
     "data": {
      "text/plain": [
       "array([[60.18259939, 86.3085521 ,  1.        ],\n",
       "       [79.03273605, 75.34437644,  1.        ],\n",
       "       [61.10666454, 96.51142588,  1.        ],\n",
       "       [75.02474557, 46.55401354,  1.        ],\n",
       "       [76.0987867 , 87.42056972,  1.        ],\n",
       "       [84.43281996, 43.53339331,  1.        ],\n",
       "       [82.30705337, 76.4819633 ,  1.        ],\n",
       "       [69.36458876, 97.71869196,  1.        ],\n",
       "       [53.97105215, 89.20735014,  1.        ],\n",
       "       [69.07014406, 52.74046973,  1.        ]])"
      ]
     },
     "execution_count": 27,
     "metadata": {},
     "output_type": "execute_result"
    }
   ],
   "source": [
    "admitted = df.query('Admitted == 1').to_numpy()\n",
    "admitted[0:10]"
   ]
  },
  {
   "cell_type": "markdown",
   "metadata": {},
   "source": [
    "Let's count how many were admitted.  Just see the matrix size _\"na lang\"_."
   ]
  },
  {
   "cell_type": "code",
   "execution_count": 28,
   "metadata": {},
   "outputs": [
    {
     "data": {
      "text/plain": [
       "(60, 3)"
      ]
     },
     "execution_count": 28,
     "metadata": {},
     "output_type": "execute_result"
    }
   ],
   "source": [
    "admitted.shape"
   ]
  },
  {
   "cell_type": "markdown",
   "metadata": {},
   "source": [
    "Let's get those who were not admitted, the last 10 this time."
   ]
  },
  {
   "cell_type": "code",
   "execution_count": 29,
   "metadata": {},
   "outputs": [
    {
     "data": {
      "text/plain": [
       "array([[56.2538175 , 39.26147251,  0.        ],\n",
       "       [30.05882245, 49.59297387,  0.        ],\n",
       "       [44.66826172, 66.45008615,  0.        ],\n",
       "       [66.56089447, 41.09209808,  0.        ],\n",
       "       [49.07256322, 51.88321182,  0.        ],\n",
       "       [32.72283304, 43.30717306,  0.        ],\n",
       "       [60.45555629, 42.50840944,  0.        ],\n",
       "       [82.22666158, 42.71987854,  0.        ],\n",
       "       [42.07545454, 78.844786  ,  0.        ],\n",
       "       [52.34800399, 60.76950526,  0.        ]])"
      ]
     },
     "execution_count": 29,
     "metadata": {},
     "output_type": "execute_result"
    }
   ],
   "source": [
    "not_admitted = df.query('Admitted == 0').to_numpy()\n",
    "not_admitted[-11:-1]"
   ]
  },
  {
   "cell_type": "markdown",
   "metadata": {},
   "source": [
    "Should be a $40x3$ matrix right?"
   ]
  },
  {
   "cell_type": "code",
   "execution_count": 30,
   "metadata": {},
   "outputs": [
    {
     "data": {
      "text/plain": [
       "(40, 3)"
      ]
     },
     "execution_count": 30,
     "metadata": {},
     "output_type": "execute_result"
    }
   ],
   "source": [
    "not_admitted.shape"
   ]
  },
  {
   "cell_type": "markdown",
   "metadata": {},
   "source": [
    "Let's plot to make sure that the boundary is linear.  As seen in the slides, some datasets have other shapes like polynomial, circle, strange curves, etc.\n",
    "\n",
    "What's nice with classification problems is that we can use two variables:\n",
    "- $x_1$ on the X-axis\n",
    "- $x_2$ on the Y-axis\n",
    "- and use a different color or symbol depending on $y$ is $1$ or $0$ 😂\n",
    "\n",
    "3 variables $x_1$, $x_2$, and $y$ will normally be a 3D graph."
   ]
  },
  {
   "cell_type": "code",
   "execution_count": 31,
   "metadata": {},
   "outputs": [
    {
     "data": {
      "text/plain": [
       "<matplotlib.legend.Legend at 0x7f5862766860>"
      ]
     },
     "execution_count": 31,
     "metadata": {},
     "output_type": "execute_result"
    },
    {
     "data": {
      "image/png": "[encoded data removed]",
      "text/plain": [
       "<Figure size 720x576 with 1 Axes>"
      ]
     },
     "metadata": {
      "needs_background": "light"
     },
     "output_type": "display_data"
    }
   ],
   "source": [
    "plt.rcParams[\"figure.figsize\"] = [10, 8] # bigger plot\n",
    "\n",
    "plt.plot(admitted[:, [0]], admitted[:, [1]], 'go', markersize=7, label=\"Admitted\")\n",
    "plt.plot(not_admitted[:, [0]], not_admitted[:, [1]], 'rx', markersize=7, label=\"Not admitted\")\n",
    "plt.title('Admission Scatter Plot')\n",
    "plt.xlabel('Exam 1 Score')\n",
    "plt.ylabel('Exam 2 Score')\n",
    "plt.legend()"
   ]
  },
  {
   "cell_type": "markdown",
   "metadata": {},
   "source": [
    "Yup, a straight line would cause a \n",
    "- few red crosses to spill over the right side of the boundary\n",
    "- few green dots to spill over the left side\n",
    "\n",
    "but overall it should be an okay-ish 👌 approximation right?"
   ]
  },
  {
   "cell_type": "markdown",
   "metadata": {},
   "source": [
    "We only needed the `admitted` and `not_admitted` variables for graphing.  For training our model, we'll still use `X` and `y`.  I'm in a good mood 🕺🕺, so I'll do it for you.\n",
    "\n",
    "$X$ should be a $100x2$ matrix."
   ]
  },
  {
   "cell_type": "code",
   "execution_count": 32,
   "metadata": {},
   "outputs": [
    {
     "data": {
      "text/plain": [
       "((100, 2),\n",
       " array([[34.62365962, 78.02469282],\n",
       "        [30.28671077, 43.89499752],\n",
       "        [35.84740877, 72.90219803],\n",
       "        [60.18259939, 86.3085521 ],\n",
       "        [79.03273605, 75.34437644],\n",
       "        [45.08327748, 56.31637178],\n",
       "        [61.10666454, 96.51142588],\n",
       "        [75.02474557, 46.55401354],\n",
       "        [76.0987867 , 87.42056972],\n",
       "        [84.43281996, 43.53339331]]))"
      ]
     },
     "execution_count": 32,
     "metadata": {},
     "output_type": "execute_result"
    }
   ],
   "source": [
    "X = df[['Exam 1', 'Exam 2']].to_numpy()\n",
    "X.shape, X[0:10]"
   ]
  },
  {
   "cell_type": "markdown",
   "metadata": {},
   "source": [
    "$y$ should be a $100x1$ vector."
   ]
  },
  {
   "cell_type": "code",
   "execution_count": 33,
   "metadata": {},
   "outputs": [
    {
     "data": {
      "text/plain": [
       "((100, 1),\n",
       " array([[0],\n",
       "        [0],\n",
       "        [0],\n",
       "        [1],\n",
       "        [1],\n",
       "        [0],\n",
       "        [1],\n",
       "        [1],\n",
       "        [1],\n",
       "        [1]]))"
      ]
     },
     "execution_count": 33,
     "metadata": {},
     "output_type": "execute_result"
    }
   ],
   "source": [
    "y = df[['Admitted']].to_numpy()\n",
    "y.shape, y[0:10]"
   ]
  },
  {
   "cell_type": "markdown",
   "metadata": {},
   "source": [
    "And we say goodbye to 🐼 Pandas. Remember to **feature scale**.\n",
    "\n",
    "# YOUR TURN"
   ]
  },
  {
   "cell_type": "code",
   "execution_count": 34,
   "metadata": {},
   "outputs": [
    {
     "data": {
      "text/plain": [
       "array([[34.62365962, 78.02469282],\n",
       "       [30.28671077, 43.89499752],\n",
       "       [35.84740877, 72.90219803],\n",
       "       [60.18259939, 86.3085521 ],\n",
       "       [79.03273605, 75.34437644]])"
      ]
     },
     "execution_count": 34,
     "metadata": {},
     "output_type": "execute_result"
    }
   ],
   "source": [
    "# SCALE X HERE\n",
    "X_norm = X\n",
    "X_norm[0:5]"
   ]
  },
  {
   "cell_type": "code",
   "execution_count": 35,
   "metadata": {},
   "outputs": [],
   "source": [
    "# BUILD AND TRAIN YOUR CLASSIFIER HERE"
   ]
  },
  {
   "cell_type": "markdown",
   "metadata": {},
   "source": [
    "Create your predict function here.  It should output a 1 if the probability of **Admission** is 50% or more."
   ]
  },
  {
   "cell_type": "code",
   "execution_count": 36,
   "metadata": {},
   "outputs": [],
   "source": [
    "def normalize_and_predict(input):\n",
    "    pass # normalize first, then predict.  It'll be slightly different from the slides."
   ]
  },
  {
   "cell_type": "code",
   "execution_count": 37,
   "metadata": {},
   "outputs": [],
   "source": [
    "applicant_scores = np.array([\n",
    "    [100, 100], # wow perfect\n",
    "    [30, 30],   # wow lowest in both\n",
    "    [30, 60],   # lowest + kabit\n",
    "    [70, 35],   # average score + quite low\n",
    "    [50, 50],   # kabit?\n",
    "    [65, 55],   # kabit++?\n",
    "    [65, 65],   # labaw lang gamay sa kabit?\n",
    "    [85, 80],   # below genius\n",
    "])\n",
    "\n",
    "\"\"\"\n",
    "I got the following:\n",
    "array([[ True],\n",
    "       [False],\n",
    "       [False],\n",
    "       [False],\n",
    "       [False],\n",
    "       [False],\n",
    "       [ True],\n",
    "       [ True]])\n",
    "\n",
    "Makes sense to me.\n",
    "\"\"\"\n",
    "\n",
    "normalize_and_predict(applicant_scores)"
   ]
  },
  {
   "cell_type": "markdown",
   "metadata": {},
   "source": [
    "Now we'll rerun the entire training set against our ML model.  Tensorflow can also calculate this _\"accuracy\"_ metric for us, but we'll learn this in the next lesson.\n",
    "\n",
    "I got a value of $92\\%$ here, using:\n",
    "- learning rate $\\alpha = 0.1$\n",
    "- epochs = 300\n",
    "\n",
    "It means 92% of its predictions match the original label $y$."
   ]
  },
  {
   "cell_type": "code",
   "execution_count": 38,
   "metadata": {},
   "outputs": [
    {
     "data": {
      "text/plain": [
       "0"
      ]
     },
     "execution_count": 38,
     "metadata": {},
     "output_type": "execute_result"
    }
   ],
   "source": [
    "# no need to divide by `y.size * 100` since there are 100 training samples!\n",
    "# np.sum just adds all the 1s and 0s in this 100x1 vector.\n",
    "np.sum(normalize_and_predict(X) == y)"
   ]
  },
  {
   "cell_type": "markdown",
   "metadata": {},
   "source": [
    "Not bad.  It will make tons of wrong predictions at the boundary line since they're the _50-50_ types.\n",
    "\n",
    "92% means it made 8 mistakes.  You could see its 8 mistakes here, with the green dots and red crosses on the wrong side, and are a few that are _very close to OR somehow stepping on the line._  ***The boundary might even be a curve!***\n",
    "\n",
    "**⚠ Spoiler**: We can fix that next lesson to achieve $100\\%$ accuracy. 😂\n",
    "\n",
    "```\n",
    "Epoch 1999/2000\n",
    "4/4 [==============================] - 0s 1ms/step - loss: 0.0206 - accuracy: 1.0000\n",
    "Epoch 2000/2000\n",
    "4/4 [==============================] - 0s 1ms/step - loss: 0.0187 - accuracy: 1.0000\n",
    "```\n",
    "\n",
    "**End Spoiler**\n",
    "\n",
    "![graph](graph.jpg)\n",
    "\n",
    "Also, many tutorials [like this](https://www.johnwittenauer.net/machine-learning-exercises-in-python-part-3/)\n",
    "or [this](https://towardsdatascience.com/andrew-ngs-machine-learning-course-in-python-logistic-regression-c0ae25509feb) that write this classifier from scratch without Tensorflow get an accuracy of $89\\%$, using the\n",
    "**exact same data set** from [Coursera's Machine Learning course](https://www.coursera.org/learn/machine-learning).\n",
    "\n",
    "# 🤗\n",
    "\n",
    "**P.S.** Graphing is out of scope for the workshop, although I shared some in the notebook.\n",
    "\n",
    "If you're interested in this graph with the boundary line, I can share the code as well."
   ]
  }
 ],
 "metadata": {
  "interpreter": {
   "hash": "767d51c1340bd893661ea55ea3124f6de3c7a262a8b4abca0554b478b1e2ff90"
  },
  "kernelspec": {
   "display_name": "Python 3.10.2 64-bit",
   "language": "python",
   "name": "python3"
  },
  "language_info": {
   "codemirror_mode": {
    "name": "ipython",
    "version": 3
   },
   "file_extension": ".py",
   "mimetype": "text/x-python",
   "name": "python",
   "nbconvert_exporter": "python",
   "pygments_lexer": "ipython3",
   "version": "3.10.2"
  },
  "orig_nbformat": 4
 },
 "nbformat": 4,
 "nbformat_minor": 2
}
