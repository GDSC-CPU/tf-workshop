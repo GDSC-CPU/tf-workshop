{
 "cells": [
  {
   "cell_type": "code",
   "execution_count": 201,
   "metadata": {},
   "outputs": [
    {
     "name": "stdout",
     "output_type": "stream",
     "text": [
      "2.8.0\n"
     ]
    }
   ],
   "source": [
    "import tensorflow as tf\n",
    "import numpy as np\n",
    "import matplotlib.pyplot as plt\n",
    "\n",
    "from tensorflow import keras\n",
    "\n",
    "print(tf.__version__)"
   ]
  },
  {
   "cell_type": "code",
   "execution_count": 202,
   "metadata": {},
   "outputs": [],
   "source": [
    "model = keras.Sequential([\n",
    "  keras.layers.Dense(units=1, input_shape=[1])\n",
    "])\n",
    "\n",
    "mse = tf.keras.losses.MeanSquaredError()\n",
    "sgd = tf.keras.optimizers.SGD(learning_rate=0.01)\n",
    "model.compile(loss=mse, optimizer=sgd)"
   ]
  },
  {
   "cell_type": "code",
   "execution_count": null,
   "metadata": {},
   "outputs": [],
   "source": []
  },
  {
   "cell_type": "code",
   "execution_count": 203,
   "metadata": {},
   "outputs": [
    {
     "data": {
      "text/plain": [
       "array([[ 0.2,  0.2],\n",
       "       [ 1. ,  1.8],\n",
       "       [ 2. ,  4. ],\n",
       "       [ 3. ,  7. ],\n",
       "       [ 4. ,  9. ],\n",
       "       [ 5. , 11. ],\n",
       "       [ 7. , 12. ],\n",
       "       [10. , 13. ],\n",
       "       [ 9. , 14. ]])"
      ]
     },
     "execution_count": 203,
     "metadata": {},
     "output_type": "execute_result"
    }
   ],
   "source": [
    "house_prices = np.array([\n",
    "  [0.2, 0.2],\n",
    "  [1, 1.8],\n",
    "  [2, 4],\n",
    "  [3, 7],\n",
    "  [4, 9],\n",
    "  [5, 11],\n",
    "  [7, 12],\n",
    "  [10, 13],\n",
    "  [9, 14]\n",
    "])\n",
    "\n",
    "x = house_prices[:, [0]]\n",
    "y = house_prices[:, [1]]\n",
    "\n",
    "house_prices"
   ]
  },
  {
   "cell_type": "code",
   "execution_count": 204,
   "metadata": {},
   "outputs": [
    {
     "data": {
      "text/plain": [
       "array([[ 0.2],\n",
       "       [ 1. ],\n",
       "       [ 2. ],\n",
       "       [ 3. ],\n",
       "       [ 4. ],\n",
       "       [ 5. ],\n",
       "       [ 7. ],\n",
       "       [10. ],\n",
       "       [ 9. ]])"
      ]
     },
     "execution_count": 204,
     "metadata": {},
     "output_type": "execute_result"
    }
   ],
   "source": [
    "x"
   ]
  },
  {
   "cell_type": "code",
   "execution_count": 205,
   "metadata": {},
   "outputs": [
    {
     "data": {
      "text/plain": [
       "array([[ 0.2],\n",
       "       [ 1.8],\n",
       "       [ 4. ],\n",
       "       [ 7. ],\n",
       "       [ 9. ],\n",
       "       [11. ],\n",
       "       [12. ],\n",
       "       [13. ],\n",
       "       [14. ]])"
      ]
     },
     "execution_count": 205,
     "metadata": {},
     "output_type": "execute_result"
    }
   ],
   "source": [
    "y"
   ]
  },
  {
   "cell_type": "code",
   "execution_count": 213,
   "metadata": {},
   "outputs": [
    {
     "name": "stdout",
     "output_type": "stream",
     "text": [
      "Epoch 1/25\n",
      "1/1 [==============================] - 0s 8ms/step - loss: 2.6966\n",
      "Epoch 2/25\n",
      "1/1 [==============================] - 0s 6ms/step - loss: 2.6932\n",
      "Epoch 3/25\n",
      "1/1 [==============================] - 0s 6ms/step - loss: 2.6898\n",
      "Epoch 4/25\n",
      "1/1 [==============================] - 0s 6ms/step - loss: 2.6865\n",
      "Epoch 5/25\n",
      "1/1 [==============================] - 0s 6ms/step - loss: 2.6832\n",
      "Epoch 6/25\n",
      "1/1 [==============================] - 0s 7ms/step - loss: 2.6800\n",
      "Epoch 7/25\n",
      "1/1 [==============================] - 0s 9ms/step - loss: 2.6768\n",
      "Epoch 8/25\n",
      "1/1 [==============================] - 0s 10ms/step - loss: 2.6736\n",
      "Epoch 9/25\n",
      "1/1 [==============================] - 0s 7ms/step - loss: 2.6705\n",
      "Epoch 10/25\n",
      "1/1 [==============================] - 0s 10ms/step - loss: 2.6675\n",
      "Epoch 11/25\n",
      "1/1 [==============================] - 0s 9ms/step - loss: 2.6644\n",
      "Epoch 12/25\n",
      "1/1 [==============================] - 0s 8ms/step - loss: 2.6614\n",
      "Epoch 13/25\n",
      "1/1 [==============================] - 0s 9ms/step - loss: 2.6585\n",
      "Epoch 14/25\n",
      "1/1 [==============================] - 0s 7ms/step - loss: 2.6556\n",
      "Epoch 15/25\n",
      "1/1 [==============================] - 0s 8ms/step - loss: 2.6527\n",
      "Epoch 16/25\n",
      "1/1 [==============================] - 0s 7ms/step - loss: 2.6499\n",
      "Epoch 17/25\n",
      "1/1 [==============================] - 0s 7ms/step - loss: 2.6471\n",
      "Epoch 18/25\n",
      "1/1 [==============================] - 0s 8ms/step - loss: 2.6443\n",
      "Epoch 19/25\n",
      "1/1 [==============================] - 0s 13ms/step - loss: 2.6416\n",
      "Epoch 20/25\n",
      "1/1 [==============================] - 0s 11ms/step - loss: 2.6389\n",
      "Epoch 21/25\n",
      "1/1 [==============================] - 0s 8ms/step - loss: 2.6362\n",
      "Epoch 22/25\n",
      "1/1 [==============================] - 0s 11ms/step - loss: 2.6336\n",
      "Epoch 23/25\n",
      "1/1 [==============================] - 0s 9ms/step - loss: 2.6310\n",
      "Epoch 24/25\n",
      "1/1 [==============================] - 0s 10ms/step - loss: 2.6285\n",
      "Epoch 25/25\n",
      "1/1 [==============================] - 0s 8ms/step - loss: 2.6260\n"
     ]
    }
   ],
   "source": [
    "history = model.fit(x, y, epochs=25)"
   ]
  },
  {
   "cell_type": "code",
   "execution_count": 207,
   "metadata": {},
   "outputs": [
    {
     "data": {
      "text/plain": [
       "array([[12.935432],\n",
       "       [19.261541]], dtype=float32)"
      ]
     },
     "execution_count": 207,
     "metadata": {},
     "output_type": "execute_result"
    }
   ],
   "source": [
    "model.predict(np.array([\n",
    "  [8],\n",
    "  [12]\n",
    "]))"
   ]
  },
  {
   "cell_type": "code",
   "execution_count": 208,
   "metadata": {},
   "outputs": [
    {
     "data": {
      "text/plain": [
       "array([[1.5815274715423584],\n",
       "       [0.28321242332458496]], dtype=object)"
      ]
     },
     "execution_count": 208,
     "metadata": {},
     "output_type": "execute_result"
    }
   ],
   "source": [
    "np.array(model.layers[0].weights, dtype=object)"
   ]
  },
  {
   "cell_type": "code",
   "execution_count": 214,
   "metadata": {},
   "outputs": [
    {
     "data": {
      "text/plain": [
       "[<matplotlib.lines.Line2D at 0x7fd4f29ecd90>]"
      ]
     },
     "execution_count": 214,
     "metadata": {},
     "output_type": "execute_result"
    },
    {
     "data": {
      "image/png": "[encoded data removed]",
      "text/plain": [
       "<Figure size 432x288 with 1 Axes>"
      ]
     },
     "metadata": {
      "needs_background": "light"
     },
     "output_type": "display_data"
    }
   ],
   "source": [
    "losses = history.history['loss']\n",
    "\n",
    "plt.title(r'Graph of cost (loss) per epoch')\n",
    "plt.xlabel('Epoch #')\n",
    "plt.ylabel(r'Loss')\n",
    "plt.plot(history.epoch, losses)"
   ]
  }
 ],
 "metadata": {
  "interpreter": {
   "hash": "767d51c1340bd893661ea55ea3124f6de3c7a262a8b4abca0554b478b1e2ff90"
  },
  "kernelspec": {
   "display_name": "Python 3.10.2 64-bit",
   "language": "python",
   "name": "python3"
  },
  "language_info": {
   "codemirror_mode": {
    "name": "ipython",
    "version": 3
   },
   "file_extension": ".py",
   "mimetype": "text/x-python",
   "name": "python",
   "nbconvert_exporter": "python",
   "pygments_lexer": "ipython3",
   "version": "3.10.2"
  },
  "orig_nbformat": 4
 },
 "nbformat": 4,
 "nbformat_minor": 2
}
