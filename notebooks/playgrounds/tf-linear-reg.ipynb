{
 "cells": [
  {
   "cell_type": "code",
   "execution_count": 37,
   "metadata": {},
   "outputs": [
    {
     "name": "stdout",
     "output_type": "stream",
     "text": [
      "2.8.0\n"
     ]
    }
   ],
   "source": [
    "import tensorflow as tf\n",
    "import numpy as np\n",
    "import matplotlib.pyplot as plt\n",
    "\n",
    "from tensorflow import keras\n",
    "\n",
    "print(tf.__version__)"
   ]
  },
  {
   "cell_type": "code",
   "execution_count": 38,
   "metadata": {},
   "outputs": [],
   "source": [
    "model = keras.Sequential([\n",
    "  keras.layers.Dense(units=1, input_shape=[1])\n",
    "])\n",
    "\n",
    "mse = tf.keras.losses.MeanSquaredError()\n",
    "sgd = tf.keras.optimizers.SGD(learning_rate=0.01)\n",
    "model.compile(loss=mse, optimizer=sgd)"
   ]
  },
  {
   "cell_type": "code",
   "execution_count": null,
   "metadata": {},
   "outputs": [],
   "source": []
  },
  {
   "cell_type": "code",
   "execution_count": 39,
   "metadata": {},
   "outputs": [
    {
     "data": {
      "text/plain": [
       "array([[ 0.2,  0.2],\n",
       "       [ 1. ,  1.8],\n",
       "       [ 2. ,  4. ],\n",
       "       [ 3. ,  7. ],\n",
       "       [ 4. ,  9. ],\n",
       "       [ 5. , 11. ],\n",
       "       [ 7. , 12. ],\n",
       "       [10. , 13. ],\n",
       "       [ 9. , 14. ]])"
      ]
     },
     "execution_count": 39,
     "metadata": {},
     "output_type": "execute_result"
    }
   ],
   "source": [
    "house_prices = np.array([\n",
    "  [0.2, 0.2],\n",
    "  [1, 1.8],\n",
    "  [2, 4],\n",
    "  [3, 7],\n",
    "  [4, 9],\n",
    "  [5, 11],\n",
    "  [7, 12],\n",
    "  [10, 13],\n",
    "  [9, 14]\n",
    "])\n",
    "\n",
    "x = house_prices[:, [0]]\n",
    "y = house_prices[:, [1]]\n",
    "\n",
    "house_prices"
   ]
  },
  {
   "cell_type": "code",
   "execution_count": 40,
   "metadata": {},
   "outputs": [
    {
     "data": {
      "text/plain": [
       "array([[ 0.2],\n",
       "       [ 1. ],\n",
       "       [ 2. ],\n",
       "       [ 3. ],\n",
       "       [ 4. ],\n",
       "       [ 5. ],\n",
       "       [ 7. ],\n",
       "       [10. ],\n",
       "       [ 9. ]])"
      ]
     },
     "execution_count": 40,
     "metadata": {},
     "output_type": "execute_result"
    }
   ],
   "source": [
    "x"
   ]
  },
  {
   "cell_type": "code",
   "execution_count": 41,
   "metadata": {},
   "outputs": [
    {
     "data": {
      "text/plain": [
       "array([[ 0.2],\n",
       "       [ 1.8],\n",
       "       [ 4. ],\n",
       "       [ 7. ],\n",
       "       [ 9. ],\n",
       "       [11. ],\n",
       "       [12. ],\n",
       "       [13. ],\n",
       "       [14. ]])"
      ]
     },
     "execution_count": 41,
     "metadata": {},
     "output_type": "execute_result"
    }
   ],
   "source": [
    "y"
   ]
  },
  {
   "cell_type": "code",
   "execution_count": 42,
   "metadata": {},
   "outputs": [
    {
     "name": "stdout",
     "output_type": "stream",
     "text": [
      "Epoch 1/10\n",
      "1/1 [==============================] - 0s 181ms/step - loss: 6.9369\n",
      "Epoch 2/10\n",
      "1/1 [==============================] - 0s 4ms/step - loss: 3.8174\n",
      "Epoch 3/10\n",
      "1/1 [==============================] - 0s 3ms/step - loss: 3.4174\n",
      "Epoch 4/10\n",
      "1/1 [==============================] - 0s 3ms/step - loss: 3.3569\n",
      "Epoch 5/10\n",
      "1/1 [==============================] - 0s 3ms/step - loss: 3.3388\n",
      "Epoch 6/10\n",
      "1/1 [==============================] - 0s 3ms/step - loss: 3.3262\n",
      "Epoch 7/10\n",
      "1/1 [==============================] - 0s 3ms/step - loss: 3.3143\n",
      "Epoch 8/10\n",
      "1/1 [==============================] - 0s 3ms/step - loss: 3.3027\n",
      "Epoch 9/10\n",
      "1/1 [==============================] - 0s 4ms/step - loss: 3.2913\n",
      "Epoch 10/10\n",
      "1/1 [==============================] - 0s 3ms/step - loss: 3.2800\n"
     ]
    }
   ],
   "source": [
    "history = model.fit(x, y, epochs=10)"
   ]
  },
  {
   "cell_type": "code",
   "execution_count": 43,
   "metadata": {},
   "outputs": [
    {
     "data": {
      "text/plain": [
       "array([[12.95686 ],\n",
       "       [19.357487]], dtype=float32)"
      ]
     },
     "execution_count": 43,
     "metadata": {},
     "output_type": "execute_result"
    }
   ],
   "source": [
    "model.predict(np.array([\n",
    "  [8],\n",
    "  [12]\n",
    "]))"
   ]
  },
  {
   "cell_type": "code",
   "execution_count": 44,
   "metadata": {},
   "outputs": [
    {
     "data": {
      "text/plain": [
       "array([[1.6001564264297485],\n",
       "       [0.15560849010944366]], dtype=object)"
      ]
     },
     "execution_count": 44,
     "metadata": {},
     "output_type": "execute_result"
    }
   ],
   "source": [
    "np.array(model.layers[0].weights, dtype=object)"
   ]
  },
  {
   "cell_type": "code",
   "execution_count": 45,
   "metadata": {},
   "outputs": [
    {
     "data": {
      "text/plain": [
       "[<matplotlib.lines.Line2D at 0x7fde9814c160>]"
      ]
     },
     "execution_count": 45,
     "metadata": {},
     "output_type": "execute_result"
    },
    {
     "data": {
      "image/png": "[encoded data removed]",
      "text/plain": [
       "<Figure size 432x288 with 1 Axes>"
      ]
     },
     "metadata": {
      "needs_background": "light"
     },
     "output_type": "display_data"
    }
   ],
   "source": [
    "losses = history.history['loss']\n",
    "\n",
    "plt.title(r'Graph of cost (loss) per epoch')\n",
    "plt.xlabel('Epoch #')\n",
    "plt.ylabel(r'Loss')\n",
    "plt.plot(history.epoch, losses)"
   ]
  },
  {
   "cell_type": "code",
   "execution_count": 46,
   "metadata": {},
   "outputs": [],
   "source": [
    "model.save('for-arduino.h5')"
   ]
  }
 ],
 "metadata": {
  "interpreter": {
   "hash": "767d51c1340bd893661ea55ea3124f6de3c7a262a8b4abca0554b478b1e2ff90"
  },
  "kernelspec": {
   "display_name": "Python 3.10.2 64-bit",
   "language": "python",
   "name": "python3"
  },
  "language_info": {
   "codemirror_mode": {
    "name": "ipython",
    "version": 3
   },
   "file_extension": ".py",
   "mimetype": "text/x-python",
   "name": "python",
   "nbconvert_exporter": "python",
   "pygments_lexer": "ipython3",
   "version": "3.10.2"
  },
  "orig_nbformat": 4
 },
 "nbformat": 4,
 "nbformat_minor": 2
}
