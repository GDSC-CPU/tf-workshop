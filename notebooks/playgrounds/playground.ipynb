{
 "cells": [
  {
   "cell_type": "code",
   "execution_count": 2,
   "metadata": {},
   "outputs": [
    {
     "name": "stdout",
     "output_type": "stream",
     "text": [
      "test\n"
     ]
    }
   ],
   "source": [
    "print('test')"
   ]
  },
  {
   "cell_type": "code",
   "execution_count": 3,
   "metadata": {},
   "outputs": [],
   "source": [
    "import numpy as np\n",
    "import matplotlib.pyplot as plt\n",
    "\n",
    "# x = np.arange(1, 11)\n",
    "\n",
    "# plt.title(\"Graphing some lines\")\n",
    "# plt.xlabel(r\"$x$\")\n",
    "# plt.ylabel(r\"$y$\")\n",
    "\n",
    "# y = 4 * x\n",
    "# plt.plot(x, y, color=\"blue\")\n",
    "\n",
    "# y = 4 * x + 5\n",
    "# plt.plot(x, y, color=\"green\")\n",
    "\n",
    "# y = 4 * x - 5\n",
    "# plt.plot(x, y, color=\"orange\")\n",
    "\n",
    "# y = 3/2 * x + 20\n",
    "# plt.plot(x, y, color=\"red\")\n",
    "\n",
    "# y = 5/2 * x + 30\n",
    "# plt.plot(x, y, color=\"magenta\")\n",
    "\n",
    "# y = -5/2 * x + 30\n",
    "# plt.plot(x, y, color=\"gray\")\n",
    "\n",
    "# y = -1/2 * x + 50\n",
    "# plt.plot(x, y, color=\"gold\")\n",
    "\n",
    "# plt.legend([\n",
    "#   r'$y = 4x$',\n",
    "#   r'$y = 4x + 5$',\n",
    "#   r'$y = 4x - 5$',\n",
    "#   r'$y = \\frac{3}{2}x + 20$',\n",
    "#   r'$y = \\frac{5}{2}x + 30$',\n",
    "#   r'$y = -\\frac{5}{2}x + 30$',\n",
    "#   r'$y = -\\frac{1}{2}x + 50$',\n",
    "# ], loc=\"lower right\")\n",
    "\n",
    "# plt.savefig('lines.jpg')"
   ]
  },
  {
   "cell_type": "code",
   "execution_count": 4,
   "metadata": {},
   "outputs": [
    {
     "data": {
      "text/plain": [
       "('xs',\n",
       " array([[ 0.2],\n",
       "        [ 1. ],\n",
       "        [ 2. ],\n",
       "        [ 3. ],\n",
       "        [ 4. ],\n",
       "        [ 5. ],\n",
       "        [ 7. ],\n",
       "        [10. ],\n",
       "        [ 9. ]]),\n",
       " 'ys',\n",
       " array([[ 0.2],\n",
       "        [ 1.8],\n",
       "        [ 4. ],\n",
       "        [ 7. ],\n",
       "        [ 9. ],\n",
       "        [11. ],\n",
       "        [12. ],\n",
       "        [13. ],\n",
       "        [14. ]]))"
      ]
     },
     "execution_count": 4,
     "metadata": {},
     "output_type": "execute_result"
    }
   ],
   "source": [
    "house_prices = np.array([\n",
    "  [0.2, 0.2],\n",
    "  [1, 1.8],\n",
    "  [2, 4],\n",
    "  [3, 7],\n",
    "  [4, 9],\n",
    "  [5, 11],\n",
    "  [7, 12],\n",
    "  [10, 13],\n",
    "  [9, 14]\n",
    "])\n",
    "\n",
    "x = house_prices[:, [0]]\n",
    "y = house_prices[:, [1]]\n",
    "\n",
    "'xs', x, 'ys', y"
   ]
  },
  {
   "cell_type": "code",
   "execution_count": 5,
   "metadata": {},
   "outputs": [
    {
     "data": {
      "image/png": "[encoded data removed]",
      "text/plain": [
       "<Figure size 432x288 with 1 Axes>"
      ]
     },
     "metadata": {
      "needs_background": "light"
     },
     "output_type": "display_data"
    }
   ],
   "source": [
    "guess_x = np.arange(0, 11)\n",
    "bad_guess = 0.5 * guess_x + 0.5\n",
    "better_guess = 0.7 * guess_x + 0.92\n",
    "almost_there_guess = 0.98 * guess_x + 1.2\n",
    "best_guess = 1.5 * guess_x + 1.3\n",
    "another_bad = 2.85 * guess_x + 2.83\n",
    "\n",
    "plt.title('House Prices')\n",
    "plt.xlabel(r'House Size x10 $m^2$')\n",
    "plt.ylabel(r'House Price $\\times$10k Php')\n",
    "plt.plot(x, y, 'o', color='deepskyblue')\n",
    "\n",
    "# plt.plot(guess_x, bad_guess, color=\"red\", label=r\"$w_1 = 0.5, w_0 = 0.5$\")\n",
    "# plt.plot(guess_x, better_guess, color=\"darkorange\", label=r\"$w_1 = 0.7, w_0 = 0.92$\")\n",
    "# plt.plot(guess_x, almost_there_guess, color=\"gold\", label=r\"$w_1 = 0.98, w_0 = 1.2$\")\n",
    "# plt.plot(guess_x, best_guess, color=\"green\", label=r\"$w_1 = 1.5, w_0 = 1.3$\")\n",
    "# plt.plot(guess_x, another_bad, color=\"sienna\", label=r\"$w_1 = 2.85, w_0 = 2.83$\")\n",
    "# plt.legend()\n",
    "plt.savefig('idea-pre.jpg')"
   ]
  },
  {
   "cell_type": "code",
   "execution_count": 6,
   "metadata": {},
   "outputs": [],
   "source": [
    "def add_ones(X):\n",
    "    return np.insert(X, 0, 1, axis=1)\n",
    "\n",
    "X_with_bias = add_ones(x)\n",
    "\n",
    "def cost(X, y, theta):\n",
    "    m = X.shape[0]\n",
    "    return (1 / (2 * m)) * (X @ theta - y).T @ (X @ theta - y)\n",
    "  "
   ]
  },
  {
   "cell_type": "code",
   "execution_count": 7,
   "metadata": {},
   "outputs": [
    {
     "data": {
      "text/plain": [
       "array([[18.86388889]])"
      ]
     },
     "execution_count": 7,
     "metadata": {},
     "output_type": "execute_result"
    }
   ],
   "source": [
    "theta = np.array([\n",
    "  [0.5],\n",
    "  [0.5]\n",
    "])\n",
    "\n",
    "cost(X_with_bias, y, theta)"
   ]
  },
  {
   "cell_type": "code",
   "execution_count": 8,
   "metadata": {},
   "outputs": [
    {
     "data": {
      "text/plain": [
       "array([[7.07932533]])"
      ]
     },
     "execution_count": 8,
     "metadata": {},
     "output_type": "execute_result"
    }
   ],
   "source": [
    "theta = np.array([\n",
    "  [0.7],\n",
    "  [0.92]\n",
    "])\n",
    "\n",
    "cost(X_with_bias, y, theta)"
   ]
  },
  {
   "cell_type": "code",
   "execution_count": 9,
   "metadata": {},
   "outputs": [
    {
     "data": {
      "text/plain": [
       "array([[2.54153333]])"
      ]
     },
     "execution_count": 9,
     "metadata": {},
     "output_type": "execute_result"
    }
   ],
   "source": [
    "theta = np.array([\n",
    "  [0.98],\n",
    "  [1.2]\n",
    "])\n",
    "\n",
    "cost(X_with_bias, y, theta)"
   ]
  },
  {
   "cell_type": "code",
   "execution_count": 10,
   "metadata": {},
   "outputs": [
    {
     "data": {
      "text/plain": [
       "array([[1.39686667]])"
      ]
     },
     "execution_count": 10,
     "metadata": {},
     "output_type": "execute_result"
    }
   ],
   "source": [
    "theta = np.array([\n",
    "  [1.5],\n",
    "  [1.3]\n",
    "])\n",
    "\n",
    "cost(X_with_bias, y, theta)"
   ]
  },
  {
   "cell_type": "code",
   "execution_count": 11,
   "metadata": {},
   "outputs": [],
   "source": [
    "def partial_derivative(X, y, theta):\n",
    "    m = X.shape[0]\n",
    "    return (1 / m) * X.T @ (X @ theta - y)"
   ]
  },
  {
   "cell_type": "code",
   "execution_count": 12,
   "metadata": {},
   "outputs": [],
   "source": [
    "def gradient_descent(X, y, initial_theta):\n",
    "    theta = initial_theta\n",
    "    alpha = 0.005\n",
    "    cost_history = []\n",
    "    theta_1_history = []\n",
    "\n",
    "    for i in range(500):\n",
    "        theta -= alpha * partial_derivative(X_with_bias, y, theta)\n",
    "        cost_for_this_theta = cost(X_with_bias, y, theta).item()\n",
    "        cost_history.append(cost_for_this_theta)\n",
    "        theta_1_history.append(theta[1].item())\n",
    "\n",
    "    return (theta, cost_history, theta_1_history)\n",
    "    "
   ]
  },
  {
   "cell_type": "code",
   "execution_count": 13,
   "metadata": {},
   "outputs": [],
   "source": [
    "theta, cost_history, theta_1_history = gradient_descent(\n",
    "  X_with_bias, \n",
    "  y, \n",
    "  np.array([\n",
    "    [0.0],\n",
    "    [0.0]\n",
    "  ])\n",
    ")\n",
    "theta, cost_history_2, theta_1_history_2 = gradient_descent(\n",
    "  X_with_bias, \n",
    "  y, \n",
    "  np.array([\n",
    "    [2.85],\n",
    "    [2.83],\n",
    "  ])\n",
    ")"
   ]
  },
  {
   "cell_type": "code",
   "execution_count": 14,
   "metadata": {},
   "outputs": [
    {
     "data": {
      "image/png": "[encoded data removed]",
      "text/plain": [
       "<Figure size 432x288 with 1 Axes>"
      ]
     },
     "metadata": {
      "needs_background": "light"
     },
     "output_type": "display_data"
    }
   ],
   "source": [
    "plt.title('Graph of cost function while trying out different weights')\n",
    "plt.xlabel(r'$w_1$')\n",
    "plt.ylabel(r'$J(w_1)$')\n",
    "plt.plot(theta_1_history, cost_history, color=\"darkblue\", label=r\"initial weights $w_0 = 0, w_1 = 0$\")\n",
    "plt.plot(theta_1_history_2, cost_history_2, color=\"purple\", label=r\"initial weights $w_0 = 2.85$, $w_1 = 2.83$\")\n",
    "plt.legend()\n",
    "plt.savefig('graph-cost.jpg')"
   ]
  },
  {
   "cell_type": "code",
   "execution_count": 15,
   "metadata": {},
   "outputs": [
    {
     "data": {
      "text/plain": [
       "array([[2.11334589],\n",
       "       [1.31420133]])"
      ]
     },
     "execution_count": 15,
     "metadata": {},
     "output_type": "execute_result"
    }
   ],
   "source": [
    "theta"
   ]
  },
  {
   "cell_type": "code",
   "execution_count": 16,
   "metadata": {},
   "outputs": [
    {
     "data": {
      "text/plain": [
       "array([[12.62695656],\n",
       "       [17.8837619 ]])"
      ]
     },
     "execution_count": 16,
     "metadata": {},
     "output_type": "execute_result"
    }
   ],
   "source": [
    "x_unseen = add_ones(np.array([\n",
    "  [8],\n",
    "  [12]\n",
    "]))\n",
    "\n",
    "x_unseen @ theta"
   ]
  }
 ],
 "metadata": {
  "interpreter": {
   "hash": "767d51c1340bd893661ea55ea3124f6de3c7a262a8b4abca0554b478b1e2ff90"
  },
  "kernelspec": {
   "display_name": "Python 3.10.2 64-bit",
   "language": "python",
   "name": "python3"
  },
  "language_info": {
   "codemirror_mode": {
    "name": "ipython",
    "version": 3
   },
   "file_extension": ".py",
   "mimetype": "text/x-python",
   "name": "python",
   "nbconvert_exporter": "python",
   "pygments_lexer": "ipython3",
   "version": "3.10.2"
  },
  "orig_nbformat": 4
 },
 "nbformat": 4,
 "nbformat_minor": 2
}
