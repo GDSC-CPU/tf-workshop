{
 "cells": [
  {
   "cell_type": "markdown",
   "metadata": {},
   "source": [
    "[![Open in Colab](https://colab.research.google.com/assets/colab-badge.svg)](https://colab.research.google.com/github/psse-cpu/ml-workshop/blob/main/notebooks/workshop-templates/oregon.ipynb)"
   ]
  },
  {
   "cell_type": "code",
   "execution_count": 16,
   "metadata": {},
   "outputs": [],
   "source": [
    "import numpy as np\n",
    "import matplotlib.pyplot as plt\n",
    "import pandas as pd\n",
    "\n",
    "from sklearn.preprocessing import MinMaxScaler\n",
    "from tensorflow import keras\n",
    "\n",
    "np.set_printoptions(precision=3, suppress=True)"
   ]
  },
  {
   "cell_type": "code",
   "execution_count": 17,
   "metadata": {},
   "outputs": [
    {
     "name": "stdout",
     "output_type": "stream",
     "text": [
      "The first 10 rows:\n",
      "\n",
      "    House Size (ft²)  Bedrooms   Price\n",
      "0              2104         3  399900\n",
      "1              1600         3  329900\n",
      "2              2400         3  369000\n",
      "3              1416         2  232000\n",
      "4              3000         4  539900\n",
      "5              1985         4  299900\n",
      "6              1534         3  314900\n",
      "7              1427         3  198999\n",
      "8              1380         3  212000\n",
      "9              1494         3  242500\n"
     ]
    }
   ],
   "source": [
    "df = pd.read_csv('https://raw.githubusercontent.com/psse-cpu/ml-workshop/main/notebooks/workshop-templates/oregon-house-prices.csv')\n",
    "print('The first 10 rows:\\n\\n', df.head(10))"
   ]
  },
  {
   "cell_type": "markdown",
   "metadata": {},
   "source": [
    "Non-alphanumeric chars in column names are _\"sabad\"_/annoying, they're difficult to type, and may\n",
    "even lead to errors like\n",
    "```\n",
    "    House Size (ft² )>=1600 and House Size (ft² )<=1700\n",
    "                  ^\n",
    "    SyntaxError: Python keyword not valid identifier in numexpr query\n",
    "```\n",
    "so let's rename"
   ]
  },
  {
   "cell_type": "code",
   "execution_count": 18,
   "metadata": {},
   "outputs": [
    {
     "data": {
      "text/html": [
       "<div>\n",
       "<style scoped>\n",
       "    .dataframe tbody tr th:only-of-type {\n",
       "        vertical-align: middle;\n",
       "    }\n",
       "\n",
       "    .dataframe tbody tr th {\n",
       "        vertical-align: top;\n",
       "    }\n",
       "\n",
       "    .dataframe thead th {\n",
       "        text-align: right;\n",
       "    }\n",
       "</style>\n",
       "<table border=\"1\" class=\"dataframe\">\n",
       "  <thead>\n",
       "    <tr style=\"text-align: right;\">\n",
       "      <th></th>\n",
       "      <th>House Size</th>\n",
       "      <th>Bedrooms</th>\n",
       "      <th>Price</th>\n",
       "    </tr>\n",
       "  </thead>\n",
       "  <tbody>\n",
       "    <tr>\n",
       "      <th>0</th>\n",
       "      <td>2104</td>\n",
       "      <td>3</td>\n",
       "      <td>399900</td>\n",
       "    </tr>\n",
       "    <tr>\n",
       "      <th>1</th>\n",
       "      <td>1600</td>\n",
       "      <td>3</td>\n",
       "      <td>329900</td>\n",
       "    </tr>\n",
       "    <tr>\n",
       "      <th>2</th>\n",
       "      <td>2400</td>\n",
       "      <td>3</td>\n",
       "      <td>369000</td>\n",
       "    </tr>\n",
       "    <tr>\n",
       "      <th>3</th>\n",
       "      <td>1416</td>\n",
       "      <td>2</td>\n",
       "      <td>232000</td>\n",
       "    </tr>\n",
       "    <tr>\n",
       "      <th>4</th>\n",
       "      <td>3000</td>\n",
       "      <td>4</td>\n",
       "      <td>539900</td>\n",
       "    </tr>\n",
       "  </tbody>\n",
       "</table>\n",
       "</div>"
      ],
      "text/plain": [
       "   House Size  Bedrooms   Price\n",
       "0        2104         3  399900\n",
       "1        1600         3  329900\n",
       "2        2400         3  369000\n",
       "3        1416         2  232000\n",
       "4        3000         4  539900"
      ]
     },
     "execution_count": 18,
     "metadata": {},
     "output_type": "execute_result"
    }
   ],
   "source": [
    "df = df.rename(columns={'House Size (ft²)': 'House Size'})\n",
    "df.head()"
   ]
  },
  {
   "cell_type": "markdown",
   "metadata": {},
   "source": [
    "For the purpose of normalization, let's get the lowest and highest house size, and also bedrooms. "
   ]
  },
  {
   "cell_type": "code",
   "execution_count": 19,
   "metadata": {},
   "outputs": [
    {
     "data": {
      "text/plain": [
       "House Size       852\n",
       "Bedrooms           1\n",
       "Price         169900\n",
       "dtype: int64"
      ]
     },
     "execution_count": 19,
     "metadata": {},
     "output_type": "execute_result"
    }
   ],
   "source": [
    "df.min()"
   ]
  },
  {
   "cell_type": "code",
   "execution_count": 20,
   "metadata": {},
   "outputs": [
    {
     "data": {
      "text/plain": [
       "House Size      4478\n",
       "Bedrooms           5\n",
       "Price         699900\n",
       "dtype: int64"
      ]
     },
     "execution_count": 20,
     "metadata": {},
     "output_type": "execute_result"
    }
   ],
   "source": [
    "df.max()"
   ]
  },
  {
   "cell_type": "markdown",
   "metadata": {},
   "source": [
    "While Tensorflow works with _some_ Pandas DataFrames, some libraries like [Scikit-learn](https://scikit-learn.org/), which we'll use for feature scaling here, don't work well with Pandas DataFrames.  Thus, you'll see the `to_numpy()` conversion when extracting\n",
    "$X$ and $y$.\n",
    "\n",
    "> Unfortunately, scikit-learn works directly with numpy arrays or scipy sparse arrays, but not `pandas.DataFrame` which is widespread in data science work.\n",
    "\n",
    "And when not converting, we see this little warning.\n",
    "\n",
    "```\n",
    "UserWarning: X does not have valid feature names, but MinMaxScaler was fitted with feature names\n",
    "```"
   ]
  },
  {
   "cell_type": "code",
   "execution_count": 21,
   "metadata": {},
   "outputs": [
    {
     "name": "stdout",
     "output_type": "stream",
     "text": [
      "The first 10 rows as a Numpy array:\n",
      " [[2104    3]\n",
      " [1600    3]\n",
      " [2400    3]\n",
      " [1416    2]\n",
      " [3000    4]\n",
      " [1985    4]\n",
      " [1534    3]\n",
      " [1427    3]\n",
      " [1380    3]\n",
      " [1494    3]]\n"
     ]
    }
   ],
   "source": [
    "X = df[['House Size', 'Bedrooms']].to_numpy()\n",
    "y = df[['Price']].to_numpy() / 100_000\n",
    "print('The first 10 rows as a Numpy array:\\n', X[0:10])"
   ]
  },
  {
   "cell_type": "code",
   "execution_count": 22,
   "metadata": {},
   "outputs": [
    {
     "name": "stdout",
     "output_type": "stream",
     "text": [
      "The first 10 prices as a Numpy array:\n",
      " [[3.999]\n",
      " [3.299]\n",
      " [3.69 ]\n",
      " [2.32 ]\n",
      " [5.399]\n",
      " [2.999]\n",
      " [3.149]\n",
      " [1.99 ]\n",
      " [2.12 ]\n",
      " [2.425]]\n"
     ]
    }
   ],
   "source": [
    "print('The first 10 prices as a Numpy array:\\n', y[0:10])"
   ]
  },
  {
   "cell_type": "markdown",
   "metadata": {},
   "source": [
    "### Wait a minute, why divide price by 10,000?\n",
    "\n",
    "Because our loss function is Mean Square Error,\n",
    "\n",
    "it will get the **sum** of the **SQUARES** of very large numbers first, before getting the average\n",
    "by dividing it with the number of training samples $m$, as seen in the formula:\n",
    "\n",
    "#### Vectorized\n",
    "$\\frac{1}{2m}(\\hat{y} - y)^T(\\hat{y} - y)$\n",
    "\n",
    "### Unvectorized\n",
    "\n",
    "$\\frac{1}{2m} \\sum\\limits_{i = 1}^{m}(y_i - \\hat{y_i})^2$\n",
    "\n",
    "\n",
    "```\n",
    "Epoch 1/200\n",
    "2/2 [==============================] - 0s 2ms/step - loss: 3346001899810717696.0000\n",
    "Epoch 2/200\n",
    "2/2 [==============================] - 0s 3ms/step - loss: 17488194481918713621838967942938624.0000\n",
    "Epoch 3/200\n",
    "2/2 [==============================] - 0s 2ms/step - loss: inf\n",
    "Epoch 4/200\n",
    "2/2 [==============================] - 0s 3ms/step - loss: inf\n",
    "Epoch 5/200\n",
    "2/2 [==============================] - 0s 2ms/step - loss: inf\n",
    "```"
   ]
  },
  {
   "cell_type": "markdown",
   "metadata": {},
   "source": [
    "As discussed in the slides, we do feature scaling first."
   ]
  },
  {
   "cell_type": "code",
   "execution_count": 23,
   "metadata": {},
   "outputs": [
    {
     "name": "stdout",
     "output_type": "stream",
     "text": [
      "Original X:\n",
      " [[2104    3]\n",
      " [1600    3]\n",
      " [2400    3]\n",
      " [1416    2]\n",
      " [3000    4]\n",
      " [1985    4]\n",
      " [1534    3]\n",
      " [1427    3]\n",
      " [1380    3]\n",
      " [1494    3]] \n",
      "\n",
      " Normalized X:\n",
      " [[0.345 0.5  ]\n",
      " [0.206 0.5  ]\n",
      " [0.427 0.5  ]\n",
      " [0.156 0.25 ]\n",
      " [0.592 0.75 ]\n",
      " [0.312 0.75 ]\n",
      " [0.188 0.5  ]\n",
      " [0.159 0.5  ]\n",
      " [0.146 0.5  ]\n",
      " [0.177 0.5  ]]\n"
     ]
    }
   ],
   "source": [
    "scaler = MinMaxScaler().fit(X)\n",
    "X_norm = scaler.transform(X)\n",
    "print('Original X:\\n', X[0:10], '\\n\\n', 'Normalized X:\\n', X_norm[0:10])"
   ]
  },
  {
   "cell_type": "markdown",
   "metadata": {},
   "source": [
    "## Target values for $w$\n",
    "\n",
    "I cross-checked this in another _\"less-overkill\"_ library - Scikit-learn, using its\n",
    "`sklearn.linear_model.LinearRegression` model, and I got the following results:\n",
    "\n",
    "$$\n",
    "w = \\begin{bmatrix}\n",
    "  w_0 \\\\\n",
    "  w_1 \\\\\n",
    "  w_2\n",
    "\\end{bmatrix} = \n",
    "\\begin{bmatrix}\n",
    "  1.995 \\\\\n",
    "  5.048 \\\\\n",
    "  -0.35\n",
    "\\end{bmatrix}\n",
    "$$\n",
    "\n",
    "If we want to predict the price of a $1,650$ sq.ft. house with $3$ bedrooms, then\n",
    "we have to normalize these inputs as well. \n",
    "- $1,650$ becomes $0.22$, and\n",
    "- $3$ being the median becomes $0.5$.\n",
    "\n",
    "So that's \n",
    "\n",
    "$\\hat{y} = w_2x_2 + w_1x_1 + w_0$  \n",
    "$\\hat{y} = -0.35 \\cdot 0.5 + 5.048 \\cdot 0.22 + 1.995$  \n",
    "$\\hat{y} = 2.93056$\n",
    "\n",
    "but we have to scale it back to $\\times 100k$ USD, our prediction is $293,056$ USD.\n",
    "\n",
    "So the model you will code below in Tensorflow should be somewhere around that ballpark.\n",
    "\n",
    "**⚠ Spoiler alert:** I got:\n",
    "$$\n",
    "w = \\begin{bmatrix}\n",
    "  w_0 \\\\\n",
    "  w_1 \\\\\n",
    "  w_2\n",
    "\\end{bmatrix} = \n",
    "\\begin{bmatrix}\n",
    "  1.96 \\\\\n",
    "  4.975 \\\\\n",
    "  -0.26\n",
    "\\end{bmatrix}\n",
    "$$\n",
    "\n",
    "- it predicts $291,623.855$ for the same house size ($1650$) and # of bedrooms ($3$).\n",
    "- it used $\\alpha = 0.05$, and trained for $1,000$ epochs."
   ]
  },
  {
   "cell_type": "markdown",
   "metadata": {},
   "source": [
    "Let's see if $291.6k$ USD is a good prediction for a $1,650 ft^2$ house with $3$ bedrooms."
   ]
  },
  {
   "cell_type": "code",
   "execution_count": 24,
   "metadata": {},
   "outputs": [
    {
     "data": {
      "text/html": [
       "<div>\n",
       "<style scoped>\n",
       "    .dataframe tbody tr th:only-of-type {\n",
       "        vertical-align: middle;\n",
       "    }\n",
       "\n",
       "    .dataframe tbody tr th {\n",
       "        vertical-align: top;\n",
       "    }\n",
       "\n",
       "    .dataframe thead th {\n",
       "        text-align: right;\n",
       "    }\n",
       "</style>\n",
       "<table border=\"1\" class=\"dataframe\">\n",
       "  <thead>\n",
       "    <tr style=\"text-align: right;\">\n",
       "      <th></th>\n",
       "      <th>House Size</th>\n",
       "      <th>Bedrooms</th>\n",
       "      <th>Price</th>\n",
       "    </tr>\n",
       "  </thead>\n",
       "  <tbody>\n",
       "    <tr>\n",
       "      <th>6</th>\n",
       "      <td>1534</td>\n",
       "      <td>3</td>\n",
       "      <td>314900</td>\n",
       "    </tr>\n",
       "    <tr>\n",
       "      <th>1</th>\n",
       "      <td>1600</td>\n",
       "      <td>3</td>\n",
       "      <td>329900</td>\n",
       "    </tr>\n",
       "    <tr>\n",
       "      <th>22</th>\n",
       "      <td>1604</td>\n",
       "      <td>3</td>\n",
       "      <td>242900</td>\n",
       "    </tr>\n",
       "    <tr>\n",
       "      <th>40</th>\n",
       "      <td>1664</td>\n",
       "      <td>2</td>\n",
       "      <td>368500</td>\n",
       "    </tr>\n",
       "    <tr>\n",
       "      <th>20</th>\n",
       "      <td>1767</td>\n",
       "      <td>3</td>\n",
       "      <td>252900</td>\n",
       "    </tr>\n",
       "    <tr>\n",
       "      <th>34</th>\n",
       "      <td>1811</td>\n",
       "      <td>4</td>\n",
       "      <td>285900</td>\n",
       "    </tr>\n",
       "    <tr>\n",
       "      <th>30</th>\n",
       "      <td>1839</td>\n",
       "      <td>2</td>\n",
       "      <td>349900</td>\n",
       "    </tr>\n",
       "    <tr>\n",
       "      <th>45</th>\n",
       "      <td>1852</td>\n",
       "      <td>4</td>\n",
       "      <td>299900</td>\n",
       "    </tr>\n",
       "    <tr>\n",
       "      <th>21</th>\n",
       "      <td>1888</td>\n",
       "      <td>2</td>\n",
       "      <td>255000</td>\n",
       "    </tr>\n",
       "    <tr>\n",
       "      <th>12</th>\n",
       "      <td>1890</td>\n",
       "      <td>3</td>\n",
       "      <td>329999</td>\n",
       "    </tr>\n",
       "    <tr>\n",
       "      <th>10</th>\n",
       "      <td>1940</td>\n",
       "      <td>4</td>\n",
       "      <td>239999</td>\n",
       "    </tr>\n",
       "    <tr>\n",
       "      <th>23</th>\n",
       "      <td>1962</td>\n",
       "      <td>4</td>\n",
       "      <td>259900</td>\n",
       "    </tr>\n",
       "    <tr>\n",
       "      <th>5</th>\n",
       "      <td>1985</td>\n",
       "      <td>4</td>\n",
       "      <td>299900</td>\n",
       "    </tr>\n",
       "    <tr>\n",
       "      <th>11</th>\n",
       "      <td>2000</td>\n",
       "      <td>3</td>\n",
       "      <td>347000</td>\n",
       "    </tr>\n",
       "  </tbody>\n",
       "</table>\n",
       "</div>"
      ],
      "text/plain": [
       "    House Size  Bedrooms   Price\n",
       "6         1534         3  314900\n",
       "1         1600         3  329900\n",
       "22        1604         3  242900\n",
       "40        1664         2  368500\n",
       "20        1767         3  252900\n",
       "34        1811         4  285900\n",
       "30        1839         2  349900\n",
       "45        1852         4  299900\n",
       "21        1888         2  255000\n",
       "12        1890         3  329999\n",
       "10        1940         4  239999\n",
       "23        1962         4  259900\n",
       "5         1985         4  299900\n",
       "11        2000         3  347000"
      ]
     },
     "execution_count": 24,
     "metadata": {},
     "output_type": "execute_result"
    }
   ],
   "source": [
    "df.query('`House Size` >= 1500 and `House Size` <= 2000').sort_values('House Size')"
   ]
  },
  {
   "cell_type": "markdown",
   "metadata": {},
   "source": [
    "Right, $1,650$ is priced at $291k$, which sorta make sense, slightly more expensive than the one\n",
    "$1,604$ sq.ft. big.  \n",
    "\n",
    "You'll also see a smaller house being more expensive, and a bigger house that's cheaper, but 🤷,\n",
    "we don't have lots of _\"training examples\"_ to begin with, at only $47$ houses.\n",
    "\n",
    "# Your turn\n",
    "\n",
    "take it from here, you already have these matrices and vectors:\n",
    "\n",
    "```py\n",
    "X_norm  # - our normalized X, a 47x2 matrix\n",
    "y       # - our prices in the training set, a 47x1 vector\n",
    "```"
   ]
  },
  {
   "cell_type": "code",
   "execution_count": 25,
   "metadata": {},
   "outputs": [],
   "source": [
    "# declare, compile, and train your model here\n",
    "\n",
    "# <YOUR CODE HERE>"
   ]
  },
  {
   "cell_type": "markdown",
   "metadata": {},
   "source": [
    "Now try to predict the price of a $1,650 ft^2$ house with $3$ bedrooms.  It should be around $291k$ USD.\n",
    "\n",
    "Don't forget to scale the input data first (data your model has never seen before), otherwise the \n",
    "prediction will be a very **expensive** house."
   ]
  },
  {
   "cell_type": "code",
   "execution_count": 26,
   "metadata": {},
   "outputs": [
    {
     "name": "stdout",
     "output_type": "stream",
     "text": [
      "Original input:\n",
      " [[1650    3]]\n",
      "Scaled input: \n",
      " [[0.22 0.5 ]]\n"
     ]
    }
   ],
   "source": [
    "medium_house = np.array([\n",
    "  [1650, 3]\n",
    "])\n",
    "\n",
    "scaled_input = scaler.transform(medium_house)\n",
    "print('Original input:\\n', medium_house)\n",
    "print('Scaled input: \\n', scaled_input)"
   ]
  },
  {
   "cell_type": "code",
   "execution_count": 27,
   "metadata": {},
   "outputs": [],
   "source": [
    "# <YOUR PREDICTION CODE HERE>"
   ]
  }
 ],
 "metadata": {
  "interpreter": {
   "hash": "d2152fd7f0bbc62aa1baff8c990435d1e2c7175d001561303988032604c11a48"
  },
  "kernelspec": {
   "display_name": "Python 3.10.2 64-bit",
   "language": "python",
   "name": "python3"
  },
  "language_info": {
   "codemirror_mode": {
    "name": "ipython",
    "version": 3
   },
   "file_extension": ".py",
   "mimetype": "text/x-python",
   "name": "python",
   "nbconvert_exporter": "python",
   "pygments_lexer": "ipython3",
   "version": "3.10.2"
  },
  "orig_nbformat": 4
 },
 "nbformat": 4,
 "nbformat_minor": 2
}
